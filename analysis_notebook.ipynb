{
 "cells": [
  {
   "cell_type": "code",
   "execution_count": 1,
   "id": "4da8889d-a1c3-4c55-8594-53acfeca3208",
   "metadata": {
    "scrolled": true
   },
   "outputs": [],
   "source": [
    "# %%\n",
    "# Queries database to get data with our without dates\n",
    "\n",
    "import pandas as pd\n",
    "import numpy as np\n",
    "#port geopandas as gpd\n",
    "from sqlalchemy import create_engine, text\n",
    "\n",
    "import mpl_toolkits.mplot3d\n",
    "\n",
    "#query db, return array\n",
    "def query_db(include_weights=False):\n",
    "    engine = create_engine(\"sqlite:///updated_fires_db.sqlite\")\n",
    "    query = ' ' \n",
    "    \n",
    "    with engine.connect() as connection:\n",
    "        \n",
    "        #overwriting columns:\n",
    "        if(include_weights):\n",
    "            query = \"SELECT Fires.REAL_DISCOVERY_DOY, Fires.REAL_LATITUDE, Fires.REAL_LONGITUDE, Fires.REAL_FIRE_SIZE, Fires.REAL_FIRE_YEAR, CAUSE_NATURAL, Calendar.Date_weight FROM FIRES JOIN Calendar ON Fires.DISCOVERY_DOY = Calendar.DOY AND Fires.FIRE_YEAR = Calendar.Year WHERE Fires.NWCG_GENERAL_CAUSE != 'Missing data/not specified/undetermined'\"\n",
    "        else:\n",
    "            query = \"SELECT Fires.REAL_DISCOVERY_DOY, Fires.REAL_LATITUDE, Fires.REAL_LONGITUDE, Fires.REAL_FIRE_SIZE, Fires.REAL_FIRE_YEAR, CAUSE_NATURAL FROM FIRES WHERE Fires.NWCG_GENERAL_CAUSE != 'Missing data/not specified/undetermined'\" #, Calendar.Date_weight FROM FIRES JOIN Calendar ON Fires.DISCOVERY_DOY = Calendar.DOY AND Fires.FIRE_YEAR = Calendar.Year  WHERE Fires.NWCG_GENERAL_CAUSE != 'Missing data/not specified/undetermined'\"\n",
    "\n",
    "        print(\"query: \" + query)\n",
    "        result = connection.execute(text(query))\n",
    "        \n",
    "        data = []\n",
    "        for row in result:\n",
    "            a = []\n",
    "            for item in row:\n",
    "                a.append(item)\n",
    "\n",
    "            data.append(a)\n",
    "            # print(data)\n",
    "        clean_data = np.array(data)\n",
    "\n",
    "        # Gets raw unnormalized data for analasis\n",
    "        query = \"SELECT \"\n",
    "        regular_columns = [\"DISCOVERY_DOY\", \"LATITUDE\", \"LONGITUDE\", \"FIRE_SIZE\", \"FIRE_SIZE_CLASS\", \"FIRE_YEAR\", \"STATE\", \"NWCG_REPORTING_AGENCY\", \"NWCG_GENERAL_CAUSE\"]\n",
    "\n",
    "        # adds all standard columns to output\n",
    "        first_col = True\n",
    "        for col in regular_columns:\n",
    "            # only adds commas after the first col\n",
    "            if(not first_col):\n",
    "                query += \", \"\n",
    "            query += col\n",
    "            first_col = False\n",
    "            \n",
    "        if(include_weights):\n",
    "            query += \", Date_weight FROM FIRES JOIN Calendar ON Fires.DISCOVERY_DOY = Calendar.DOY AND Fires.FIRE_YEAR = Calendar.Year WHERE Fires.NWCG_GENERAL_CAUSE != 'Missing data/not specified/undetermined'\"\n",
    "            regular_columns.append(\"Date_weight\")\n",
    "        else:\n",
    "            query += \" FROM FIRES WHERE Fires.NWCG_GENERAL_CAUSE != 'Missing data/not specified/undetermined'\"\n",
    "        result = connection.execute(text(query))\n",
    "        \n",
    "        data = []\n",
    "        for row in result:\n",
    "            a = []\n",
    "            for item in row:\n",
    "                a.append(item)\n",
    "\n",
    "            data.append(a)\n",
    "            # print(data)\n",
    "        raw_data = np.array(data)\n",
    "        #print(x)\n",
    "    return raw_data, clean_data, regular_columns #used_columns]\n",
    "\n",
    "# %%\n"
   ]
  },
  {
   "cell_type": "code",
   "execution_count": 2,
   "id": "8fd25e28-8188-4ca9-aa42-6ac8ab175d41",
   "metadata": {},
   "outputs": [
    {
     "name": "stdout",
     "output_type": "stream",
     "text": [
      "query: SELECT Fires.REAL_DISCOVERY_DOY, Fires.REAL_LATITUDE, Fires.REAL_LONGITUDE, Fires.REAL_FIRE_SIZE, Fires.REAL_FIRE_YEAR, CAUSE_NATURAL, Calendar.Date_weight FROM FIRES JOIN Calendar ON Fires.DISCOVERY_DOY = Calendar.DOY AND Fires.FIRE_YEAR = Calendar.Year WHERE Fires.NWCG_GENERAL_CAUSE != 'Missing data/not specified/undetermined'\n"
     ]
    }
   ],
   "source": [
    "data, cleaned_data, column_headers = query_db(True)\n"
   ]
  },
  {
   "cell_type": "code",
   "execution_count": null,
   "id": "56fc487f-2f6a-417b-8e77-e50725143844",
   "metadata": {},
   "outputs": [],
   "source": [
    "# Henry Code Usage\n",
    "import read\n",
    "\n",
    "alpha = 0.11433952525429983 #read.confounding_strength_DOY(data, column_headers)\n",
    "print(alpha)\n",
    "\n",
    "#data, cleaned_data, column_headers = query_db(False)\n",
    "read.do_kmean(data, cleaned_data, column_headers, \"Weighted Query\")\n",
    "#print(read.MODIFIED_DB)"
   ]
  }
 ],
 "metadata": {
  "kernelspec": {
   "display_name": "Python 3 (ipykernel)",
   "language": "python",
   "name": "python3"
  },
  "language_info": {
   "codemirror_mode": {
    "name": "ipython",
    "version": 3
   },
   "file_extension": ".py",
   "mimetype": "text/x-python",
   "name": "python",
   "nbconvert_exporter": "python",
   "pygments_lexer": "ipython3",
   "version": "3.11.0"
  }
 },
 "nbformat": 4,
 "nbformat_minor": 5
}
